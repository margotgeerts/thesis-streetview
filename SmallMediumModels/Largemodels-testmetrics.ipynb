{
 "cells": [
  {
   "cell_type": "code",
   "execution_count": 6,
   "id": "hearing-allocation",
   "metadata": {},
   "outputs": [],
   "source": [
    "import os\n",
    "import tensorflow as tf\n",
    "import keras\n",
    "from keras.applications import inception_v3 as inc_net\n",
    "from keras.preprocessing import image\n",
    "from keras.applications.imagenet_utils import decode_predictions\n",
    "from tensorflow.keras.preprocessing.image import img_to_array\n",
    "from tensorflow.keras.preprocessing.image import load_img\n",
    "from skimage.io import imread\n",
    "import matplotlib.pyplot as plt\n",
    "%matplotlib inline\n",
    "import numpy as np\n",
    "from PIL import Image"
   ]
  },
  {
   "cell_type": "code",
   "execution_count": 2,
   "id": "satellite-complement",
   "metadata": {},
   "outputs": [],
   "source": [
    "model = tf.keras.models.load_model('/home/jupyter/Cropping-tuner/DenseNet-LargeDataModel')"
   ]
  },
  {
   "cell_type": "code",
   "execution_count": 4,
   "id": "brutal-opinion",
   "metadata": {},
   "outputs": [],
   "source": [
    "IMAGE_SIZE = (224, 224)\n",
    "BATCH_SIZE = 16\n",
    "GOOD = 0\n",
    "BAD = 1"
   ]
  },
  {
   "cell_type": "code",
   "execution_count": 7,
   "id": "current-florida",
   "metadata": {},
   "outputs": [],
   "source": [
    "test_data_dir = \"/home/jupyter/large-dataset/test-data-large\"\n",
    "test_data=[]\n",
    "test_labels=[]\n",
    "test_imagePaths = []\n",
    "for label in os.listdir(test_data_dir):\n",
    "    listdir = os.listdir(os.path.sep.join([test_data_dir,label]))\n",
    "    if label == 'Good':\n",
    "        bin_label = GOOD\n",
    "    elif label == 'Bad':\n",
    "        bin_label = BAD\n",
    "    for filename in listdir:\n",
    "        imagePath = os.path.sep.join([test_data_dir,label, filename])\n",
    "        image = load_img(imagePath, target_size=IMAGE_SIZE)\n",
    "        image = img_to_array(image) / 255.0\n",
    "        test_data.append(image)\n",
    "        test_labels.append(bin_label)\n",
    "        test_imagePaths.append(imagePath)\n",
    "test_data = np.array(test_data)\n",
    "test_labels = np.array(test_labels)\n",
    "test_imagePaths = np.array(test_imagePaths)"
   ]
  },
  {
   "cell_type": "code",
   "execution_count": 9,
   "id": "august-district",
   "metadata": {},
   "outputs": [
    {
     "data": {
      "text/plain": [
       "0.95534253"
      ]
     },
     "execution_count": 9,
     "metadata": {},
     "output_type": "execute_result"
    }
   ],
   "source": [
    "m = tf.keras.metrics.AUC()\n",
    "m.update_state(test_labels, model.predict(test_data))\n",
    "m.result().numpy()"
   ]
  },
  {
   "cell_type": "code",
   "execution_count": 10,
   "id": "fitted-monitoring",
   "metadata": {},
   "outputs": [
    {
     "data": {
      "text/plain": [
       "0.8"
      ]
     },
     "execution_count": 10,
     "metadata": {},
     "output_type": "execute_result"
    }
   ],
   "source": [
    "preds = model.predict(test_data)\n",
    "precision = tf.keras.metrics.Precision()\n",
    "precision.update_state(test_labels, preds)\n",
    "precision.result().numpy()"
   ]
  },
  {
   "cell_type": "code",
   "execution_count": 11,
   "id": "wired-winter",
   "metadata": {},
   "outputs": [
    {
     "data": {
      "text/plain": [
       "0.8"
      ]
     },
     "execution_count": 11,
     "metadata": {},
     "output_type": "execute_result"
    }
   ],
   "source": [
    "recall = tf.keras.metrics.Recall()\n",
    "recall.update_state(test_labels, preds)\n",
    "recall.result().numpy()"
   ]
  },
  {
   "cell_type": "code",
   "execution_count": 22,
   "id": "hollywood-controversy",
   "metadata": {},
   "outputs": [
    {
     "data": {
      "text/plain": [
       "20.0"
      ]
     },
     "execution_count": 22,
     "metadata": {},
     "output_type": "execute_result"
    }
   ],
   "source": [
    "TP = tf.keras.metrics.TruePositives()\n",
    "TP.update_state(test_labels, preds)\n",
    "TP.result().numpy()"
   ]
  },
  {
   "cell_type": "code",
   "execution_count": 27,
   "id": "pediatric-submission",
   "metadata": {},
   "outputs": [
    {
     "data": {
      "text/plain": [
       "5.0"
      ]
     },
     "execution_count": 27,
     "metadata": {},
     "output_type": "execute_result"
    }
   ],
   "source": [
    "FP = tf.keras.metrics.FalsePositives()\n",
    "FP.update_state(test_labels, preds)\n",
    "FP.result().numpy()"
   ]
  },
  {
   "cell_type": "code",
   "execution_count": 24,
   "id": "nonprofit-appointment",
   "metadata": {},
   "outputs": [
    {
     "data": {
      "text/plain": [
       "68.0"
      ]
     },
     "execution_count": 24,
     "metadata": {},
     "output_type": "execute_result"
    }
   ],
   "source": [
    "TP = tf.keras.metrics.TrueNegatives()\n",
    "TP.update_state(test_labels, preds)\n",
    "TP.result().numpy()"
   ]
  },
  {
   "cell_type": "code",
   "execution_count": 26,
   "id": "powerful-interstate",
   "metadata": {},
   "outputs": [
    {
     "data": {
      "text/plain": [
       "5.0"
      ]
     },
     "execution_count": 26,
     "metadata": {},
     "output_type": "execute_result"
    }
   ],
   "source": [
    "FN = tf.keras.metrics.FalseNegatives()\n",
    "FN.update_state(test_labels, preds)\n",
    "FN.result().numpy()"
   ]
  },
  {
   "cell_type": "code",
   "execution_count": 12,
   "id": "polish-genius",
   "metadata": {},
   "outputs": [],
   "source": [
    "vgg_model = tf.keras.models.load_model('/home/jupyter/Cropping-tuner/VGG-LargeDataModel')"
   ]
  },
  {
   "cell_type": "code",
   "execution_count": 13,
   "id": "plain-heater",
   "metadata": {},
   "outputs": [
    {
     "data": {
      "text/plain": [
       "0.91232884"
      ]
     },
     "execution_count": 13,
     "metadata": {},
     "output_type": "execute_result"
    }
   ],
   "source": [
    "vgg_preds = vgg_model.predict(test_data)\n",
    "vgg_auc = tf.keras.metrics.AUC()\n",
    "vgg_auc.update_state(test_labels, vgg_preds)\n",
    "vgg_auc.result().numpy()"
   ]
  },
  {
   "cell_type": "code",
   "execution_count": 14,
   "id": "attached-executive",
   "metadata": {},
   "outputs": [
    {
     "data": {
      "text/plain": [
       "0.625"
      ]
     },
     "execution_count": 14,
     "metadata": {},
     "output_type": "execute_result"
    }
   ],
   "source": [
    "vgg_precision = tf.keras.metrics.Precision()\n",
    "vgg_precision.update_state(test_labels, vgg_preds)\n",
    "vgg_precision.result().numpy()"
   ]
  },
  {
   "cell_type": "code",
   "execution_count": 15,
   "id": "modern-contents",
   "metadata": {},
   "outputs": [
    {
     "data": {
      "text/plain": [
       "0.8"
      ]
     },
     "execution_count": 15,
     "metadata": {},
     "output_type": "execute_result"
    }
   ],
   "source": [
    "vgg_recall = tf.keras.metrics.Recall()\n",
    "vgg_recall.update_state(test_labels, vgg_preds)\n",
    "vgg_recall.result().numpy()"
   ]
  },
  {
   "cell_type": "code",
   "execution_count": 16,
   "id": "mysterious-glenn",
   "metadata": {},
   "outputs": [],
   "source": [
    "resnet_model = tf.keras.models.load_model('/home/jupyter/Cropping-tuner/ResNet-LargeDataModel')"
   ]
  },
  {
   "cell_type": "code",
   "execution_count": 17,
   "id": "multiple-domestic",
   "metadata": {},
   "outputs": [
    {
     "data": {
      "text/plain": [
       "0.8660274"
      ]
     },
     "execution_count": 17,
     "metadata": {},
     "output_type": "execute_result"
    }
   ],
   "source": [
    "resnet_preds = resnet_model.predict(test_data)\n",
    "resnet_auc = tf.keras.metrics.AUC()\n",
    "resnet_auc.update_state(test_labels, resnet_preds)\n",
    "resnet_auc.result().numpy()"
   ]
  },
  {
   "cell_type": "code",
   "execution_count": 18,
   "id": "private-creativity",
   "metadata": {},
   "outputs": [
    {
     "data": {
      "text/plain": [
       "0.6666667"
      ]
     },
     "execution_count": 18,
     "metadata": {},
     "output_type": "execute_result"
    }
   ],
   "source": [
    "resnet_precision = tf.keras.metrics.Precision()\n",
    "resnet_precision.update_state(test_labels, resnet_preds)\n",
    "resnet_precision.result().numpy()"
   ]
  },
  {
   "cell_type": "code",
   "execution_count": 20,
   "id": "invisible-leisure",
   "metadata": {},
   "outputs": [
    {
     "data": {
      "text/plain": [
       "0.56"
      ]
     },
     "execution_count": 20,
     "metadata": {},
     "output_type": "execute_result"
    }
   ],
   "source": [
    "resnet_recall = tf.keras.metrics.Recall()\n",
    "resnet_recall.update_state(test_labels, resnet_preds)\n",
    "resnet_recall.result().numpy()"
   ]
  },
  {
   "cell_type": "code",
   "execution_count": null,
   "id": "cognitive-recruitment",
   "metadata": {},
   "outputs": [],
   "source": []
  }
 ],
 "metadata": {
  "environment": {
   "name": "tf2-gpu.2-4.mnightly-2021-02-12-debian-10-test",
   "type": "gcloud",
   "uri": "gcr.io/deeplearning-platform-release/tf2-gpu.2-4:mnightly-2021-02-12-debian-10-test"
  },
  "kernelspec": {
   "display_name": "Python 3",
   "language": "python",
   "name": "python3"
  },
  "language_info": {
   "codemirror_mode": {
    "name": "ipython",
    "version": 3
   },
   "file_extension": ".py",
   "mimetype": "text/x-python",
   "name": "python",
   "nbconvert_exporter": "python",
   "pygments_lexer": "ipython3",
   "version": "3.7.9"
  }
 },
 "nbformat": 4,
 "nbformat_minor": 5
}
