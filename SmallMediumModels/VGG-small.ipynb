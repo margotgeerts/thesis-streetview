{
 "cells": [
  {
   "cell_type": "code",
   "execution_count": 2,
   "id": "fatal-economy",
   "metadata": {},
   "outputs": [],
   "source": [
    "#https://www.tensorflow.org/hub/tutorials/tf2_image_retraining\n",
    "import itertools\n",
    "import os\n",
    "import shutil\n",
    "\n",
    "import tensorflow as tf\n",
    "from tensorflow.keras.applications import VGG16\n",
    "from tensorflow.keras.layers import Dense,GlobalAveragePooling2D,Convolution2D,BatchNormalization\n",
    "from tensorflow.keras.layers import Flatten\n",
    "from tensorflow.keras.layers import Dropout\n",
    "from tensorflow.keras.layers import Dense\n",
    "from tensorflow.keras.layers import Input\n",
    "from tensorflow.keras.models import Model\n",
    "from tensorflow.keras.optimizers import Adam\n",
    "from tensorflow.keras.preprocessing.image import img_to_array\n",
    "from tensorflow.keras.preprocessing.image import load_img\n",
    "from tensorflow.keras.utils import to_categorical\n",
    "from sklearn.preprocessing import LabelBinarizer\n",
    "from sklearn.model_selection import train_test_split\n",
    "import matplotlib.pyplot as plt\n",
    "import numpy as np\n",
    "import pickle\n",
    "import cv2\n",
    "import os\n",
    "import json\n",
    "import kerastuner as kt\n",
    "import PIL"
   ]
  },
  {
   "cell_type": "code",
   "execution_count": 3,
   "id": "tribal-sphere",
   "metadata": {},
   "outputs": [],
   "source": [
    "IMAGE_SIZE = (224, 224)\n",
    "BATCH_SIZE = 16\n",
    "GOOD = 0\n",
    "BAD = 1"
   ]
  },
  {
   "cell_type": "code",
   "execution_count": 5,
   "id": "standing-suspension",
   "metadata": {},
   "outputs": [],
   "source": [
    "#read data\n",
    "train_data_dir = \"/home/jupyter/large-dataset/small-dataset/training\"\n",
    "val_data_dir = \"/home/jupyter/large-dataset/small-dataset/validation\"\n",
    "train_data=[]\n",
    "train_labels=[]\n",
    "train_imagePaths = []\n",
    "for label in os.listdir(train_data_dir):\n",
    "    listdir = os.listdir(os.path.sep.join([train_data_dir,label]))\n",
    "    if label == 'Good':\n",
    "        bin_label = GOOD\n",
    "    elif label == 'Bad':\n",
    "        bin_label = BAD\n",
    "    for filename in listdir:\n",
    "        imagePath = os.path.sep.join([train_data_dir,label, filename])\n",
    "        image = load_img(imagePath, target_size=IMAGE_SIZE)\n",
    "        image = img_to_array(image) / 255.0\n",
    "        train_data.append(image)\n",
    "        train_labels.append(bin_label)\n",
    "        train_imagePaths.append(imagePath)\n",
    "train_data = np.array(train_data)\n",
    "train_labels = np.array(train_labels)\n",
    "train_imagePaths = np.array(train_imagePaths)"
   ]
  },
  {
   "cell_type": "code",
   "execution_count": 6,
   "id": "acceptable-salad",
   "metadata": {},
   "outputs": [],
   "source": [
    "val_data=[]\n",
    "val_labels=[]\n",
    "val_imagePaths = []\n",
    "for label in os.listdir(val_data_dir):\n",
    "    listdir = os.listdir(os.path.sep.join([val_data_dir,label]))\n",
    "    if label == 'Good':\n",
    "        bin_label = GOOD\n",
    "    elif label == 'Bad':\n",
    "        bin_label = BAD\n",
    "    for filename in listdir:\n",
    "        imagePath = os.path.sep.join([val_data_dir,label, filename])\n",
    "        image = load_img(imagePath, target_size=IMAGE_SIZE)\n",
    "        image = img_to_array(image) / 255.0\n",
    "        val_data.append(image)\n",
    "        val_labels.append(bin_label)\n",
    "        val_imagePaths.append(imagePath)\n",
    "val_data = np.array(val_data)\n",
    "val_labels = np.array(val_labels)\n",
    "val_imagePaths = np.array(val_imagePaths)"
   ]
  },
  {
   "cell_type": "code",
   "execution_count": 7,
   "id": "binary-construction",
   "metadata": {},
   "outputs": [],
   "source": [
    "test_data_dir = \"/home/jupyter/large-dataset/test-data-large\"\n",
    "test_data=[]\n",
    "test_labels=[]\n",
    "test_imagePaths = []\n",
    "for label in os.listdir(test_data_dir):\n",
    "    listdir = os.listdir(os.path.sep.join([test_data_dir,label]))\n",
    "    if label == 'Good':\n",
    "        bin_label = GOOD\n",
    "    elif label == 'Bad':\n",
    "        bin_label = BAD\n",
    "    for filename in listdir:\n",
    "        imagePath = os.path.sep.join([test_data_dir,label, filename])\n",
    "        image = load_img(imagePath, target_size=IMAGE_SIZE)\n",
    "        image = img_to_array(image) / 255.0\n",
    "        test_data.append(image)\n",
    "        test_labels.append(bin_label)\n",
    "        test_imagePaths.append(imagePath)\n",
    "test_data = np.array(test_data)\n",
    "test_labels = np.array(test_labels)\n",
    "test_imagePaths = np.array(test_imagePaths)"
   ]
  },
  {
   "cell_type": "code",
   "execution_count": 12,
   "id": "needed-suite",
   "metadata": {},
   "outputs": [
    {
     "name": "stdout",
     "output_type": "stream",
     "text": [
      "Model: \"model_1\"\n",
      "_________________________________________________________________\n",
      "Layer (type)                 Output Shape              Param #   \n",
      "=================================================================\n",
      "input_2 (InputLayer)         [(None, 224, 224, 3)]     0         \n",
      "_________________________________________________________________\n",
      "block1_conv1 (Conv2D)        (None, 224, 224, 64)      1792      \n",
      "_________________________________________________________________\n",
      "block1_conv2 (Conv2D)        (None, 224, 224, 64)      36928     \n",
      "_________________________________________________________________\n",
      "block1_pool (MaxPooling2D)   (None, 112, 112, 64)      0         \n",
      "_________________________________________________________________\n",
      "block2_conv1 (Conv2D)        (None, 112, 112, 128)     73856     \n",
      "_________________________________________________________________\n",
      "block2_conv2 (Conv2D)        (None, 112, 112, 128)     147584    \n",
      "_________________________________________________________________\n",
      "block2_pool (MaxPooling2D)   (None, 56, 56, 128)       0         \n",
      "_________________________________________________________________\n",
      "block3_conv1 (Conv2D)        (None, 56, 56, 256)       295168    \n",
      "_________________________________________________________________\n",
      "block3_conv2 (Conv2D)        (None, 56, 56, 256)       590080    \n",
      "_________________________________________________________________\n",
      "block3_conv3 (Conv2D)        (None, 56, 56, 256)       590080    \n",
      "_________________________________________________________________\n",
      "block3_pool (MaxPooling2D)   (None, 28, 28, 256)       0         \n",
      "_________________________________________________________________\n",
      "block4_conv1 (Conv2D)        (None, 28, 28, 512)       1180160   \n",
      "_________________________________________________________________\n",
      "block4_conv2 (Conv2D)        (None, 28, 28, 512)       2359808   \n",
      "_________________________________________________________________\n",
      "block4_conv3 (Conv2D)        (None, 28, 28, 512)       2359808   \n",
      "_________________________________________________________________\n",
      "block4_pool (MaxPooling2D)   (None, 14, 14, 512)       0         \n",
      "_________________________________________________________________\n",
      "block5_conv1 (Conv2D)        (None, 14, 14, 512)       2359808   \n",
      "_________________________________________________________________\n",
      "block5_conv2 (Conv2D)        (None, 14, 14, 512)       2359808   \n",
      "_________________________________________________________________\n",
      "block5_conv3 (Conv2D)        (None, 14, 14, 512)       2359808   \n",
      "_________________________________________________________________\n",
      "block5_pool (MaxPooling2D)   (None, 7, 7, 512)         0         \n",
      "_________________________________________________________________\n",
      "dropout_3 (Dropout)          (None, 7, 7, 512)         0         \n",
      "_________________________________________________________________\n",
      "global_average_pooling2d_1 ( (None, 512)               0         \n",
      "_________________________________________________________________\n",
      "batch_normalization_2 (Batch (None, 512)               2048      \n",
      "_________________________________________________________________\n",
      "dropout_4 (Dropout)          (None, 512)               0         \n",
      "_________________________________________________________________\n",
      "dense_2 (Dense)              (None, 1024)              525312    \n",
      "_________________________________________________________________\n",
      "dense_3 (Dense)              (None, 512)               524800    \n",
      "_________________________________________________________________\n",
      "batch_normalization_3 (Batch (None, 512)               2048      \n",
      "_________________________________________________________________\n",
      "dropout_5 (Dropout)          (None, 512)               0         \n",
      "_________________________________________________________________\n",
      "class_label (Dense)          (None, 1)                 513       \n",
      "=================================================================\n",
      "Total params: 15,769,409\n",
      "Trainable params: 8,132,097\n",
      "Non-trainable params: 7,637,312\n",
      "_________________________________________________________________\n"
     ]
    }
   ],
   "source": [
    "#model\n",
    "vgg = VGG16(weights='imagenet', include_top = False, input_shape=(224, 224, 3))\n",
    "head = tf.keras.layers.Dropout(rate=0.2)(vgg.output)\n",
    "x = GlobalAveragePooling2D()(head)\n",
    "x = BatchNormalization()(x)\n",
    "x = Dropout(0.5)(x)\n",
    "x = Dense(1024,activation='relu')(x) \n",
    "x = Dense(512,activation='relu')(x) \n",
    "x = BatchNormalization()(x)\n",
    "x = Dropout(0.0)(x)\n",
    "head = tf.keras.layers.Dense(1, activation = 'sigmoid',\n",
    "                          kernel_regularizer=tf.keras.regularizers.l2(0.0001), name=\"class_label\")(x)\n",
    "model = Model(\n",
    "    inputs=vgg.input,\n",
    "    outputs=(head))\n",
    "for layer in model.layers[:15]:\n",
    "    layer.trainable = False\n",
    "model.build((None,)+IMAGE_SIZE+(3,))\n",
    "model.summary()\n",
    "model.compile(\n",
    "  optimizer = tf.keras.optimizers.Adam(lr=0.0001), \n",
    "  loss=tf.keras.losses.BinaryCrossentropy(from_logits=True, label_smoothing=0.1),\n",
    "  metrics=['accuracy', 'AUC', tf.keras.metrics.Precision(), tf.keras.metrics.Recall()])"
   ]
  },
  {
   "cell_type": "code",
   "execution_count": 13,
   "id": "favorite-observer",
   "metadata": {},
   "outputs": [
    {
     "name": "stdout",
     "output_type": "stream",
     "text": [
      "Epoch 1/50\n",
      "8/8 [==============================] - 47s 2s/step - loss: 0.8957 - accuracy: 0.5511 - auc: 0.5333 - precision: 0.2542 - recall: 0.5113 - val_loss: 0.6252 - val_accuracy: 0.6970 - val_auc: 0.7391 - val_precision: 0.0000e+00 - val_recall: 0.0000e+00\n",
      "Epoch 2/50\n",
      "8/8 [==============================] - 3s 348ms/step - loss: 0.6807 - accuracy: 0.6851 - auc: 0.8360 - precision: 0.4549 - recall: 0.8294 - val_loss: 0.6137 - val_accuracy: 0.6970 - val_auc: 0.8652 - val_precision: 0.0000e+00 - val_recall: 0.0000e+00\n",
      "Epoch 3/50\n",
      "8/8 [==============================] - 3s 351ms/step - loss: 0.5469 - accuracy: 0.7509 - auc: 0.9449 - precision: 0.4937 - recall: 0.9373 - val_loss: 0.6107 - val_accuracy: 0.6970 - val_auc: 0.8565 - val_precision: 0.0000e+00 - val_recall: 0.0000e+00\n",
      "Epoch 4/50\n",
      "8/8 [==============================] - 3s 351ms/step - loss: 0.5729 - accuracy: 0.7471 - auc: 0.8774 - precision: 0.4768 - recall: 0.8435 - val_loss: 0.6182 - val_accuracy: 0.6970 - val_auc: 0.7217 - val_precision: 0.0000e+00 - val_recall: 0.0000e+00\n",
      "Epoch 5/50\n",
      "8/8 [==============================] - 3s 352ms/step - loss: 0.4328 - accuracy: 0.8635 - auc: 0.9918 - precision: 0.6527 - recall: 1.0000 - val_loss: 0.5966 - val_accuracy: 0.6970 - val_auc: 0.8196 - val_precision: 0.0000e+00 - val_recall: 0.0000e+00\n",
      "Epoch 6/50\n",
      "8/8 [==============================] - 3s 345ms/step - loss: 0.4098 - accuracy: 0.8467 - auc: 0.9892 - precision: 0.6431 - recall: 1.0000 - val_loss: 0.5780 - val_accuracy: 0.8182 - val_auc: 0.9043 - val_precision: 0.8333 - val_recall: 0.5000\n",
      "Epoch 7/50\n",
      "8/8 [==============================] - 3s 351ms/step - loss: 0.4169 - accuracy: 0.8745 - auc: 0.9917 - precision: 0.6314 - recall: 0.9935 - val_loss: 0.5870 - val_accuracy: 0.7879 - val_auc: 0.8717 - val_precision: 0.8000 - val_recall: 0.4000\n",
      "Epoch 8/50\n",
      "8/8 [==============================] - 3s 353ms/step - loss: 0.4383 - accuracy: 0.8824 - auc: 0.9752 - precision: 0.6723 - recall: 0.9800 - val_loss: 0.6044 - val_accuracy: 0.7273 - val_auc: 0.7543 - val_precision: 0.6667 - val_recall: 0.2000\n",
      "Epoch 00008: early stopping\n"
     ]
    }
   ],
   "source": [
    "#training\n",
    "steps_per_epoch = len(train_data) // BATCH_SIZE\n",
    "validation_steps = len(val_data) // BATCH_SIZE\n",
    "callback = tf.keras.callbacks.EarlyStopping(monitor='val_loss', patience=2, mode='auto', verbose=1)\n",
    "hist = model.fit(\n",
    "    train_data, train_labels,\n",
    "    epochs=50, steps_per_epoch=steps_per_epoch,\n",
    "    validation_data=(val_data, val_labels),\n",
    "    validation_steps=validation_steps, callbacks=[callback]).history"
   ]
  },
  {
   "cell_type": "code",
   "execution_count": 16,
   "id": "protective-cliff",
   "metadata": {},
   "outputs": [
    {
     "data": {
      "text/plain": [
       "<matplotlib.legend.Legend at 0x7f8cd4edaf10>"
      ]
     },
     "execution_count": 16,
     "metadata": {},
     "output_type": "execute_result"
    },
    {
     "data": {
      "image/png": "[encoded data removed]",
      "text/plain": [
       "<Figure size 432x288 with 1 Axes>"
      ]
     },
     "metadata": {
      "needs_background": "light"
     },
     "output_type": "display_data"
    },
    {
     "data": {
      "image/png": "[encoded data removed]",
      "text/plain": [
       "<Figure size 432x288 with 1 Axes>"
      ]
     },
     "metadata": {
      "needs_background": "light"
     },
     "output_type": "display_data"
    }
   ],
   "source": [
    "plt.figure()\n",
    "plt.ylabel(\"Loss (training and validation)\")\n",
    "plt.xlabel(\"Training Steps\")\n",
    "plt.ylim([0,2])\n",
    "plt.plot(hist[\"loss\"], label='training loss')\n",
    "plt.plot(hist[\"val_loss\"], label='validation loss')\n",
    "plt.legend()\n",
    "\n",
    "plt.figure()\n",
    "plt.ylabel(\"Accuracy (training and validation)\")\n",
    "plt.xlabel(\"Training Steps\")\n",
    "plt.ylim([0,1])\n",
    "plt.plot(hist[\"accuracy\"], label='training accuracy')\n",
    "plt.plot(hist[\"val_accuracy\"], label='validation accuracy')\n",
    "plt.legend()"
   ]
  },
  {
   "cell_type": "code",
   "execution_count": 17,
   "id": "first-sheet",
   "metadata": {},
   "outputs": [
    {
     "data": {
      "text/plain": [
       "[<matplotlib.lines.Line2D at 0x7f8cd4ec9790>]"
      ]
     },
     "execution_count": 17,
     "metadata": {},
     "output_type": "execute_result"
    },
    {
     "data": {
      "image/png": "[encoded data removed]",
      "text/plain": [
       "<Figure size 432x288 with 1 Axes>"
      ]
     },
     "metadata": {
      "needs_background": "light"
     },
     "output_type": "display_data"
    }
   ],
   "source": [
    "plt.figure()\n",
    "plt.ylabel(\"Accuracy (training and validation)\")\n",
    "plt.xlabel(\"Training Steps\")\n",
    "plt.ylim([0,1])\n",
    "plt.plot(hist[\"accuracy\"])\n",
    "plt.plot(hist[\"val_accuracy\"])"
   ]
  },
  {
   "cell_type": "code",
   "execution_count": 18,
   "id": "configured-yorkshire",
   "metadata": {},
   "outputs": [
    {
     "name": "stdout",
     "output_type": "stream",
     "text": [
      "4/4 - 16s - loss: 0.5871 - accuracy: 0.8163 - auc: 0.8277 - precision: 0.7692 - recall: 0.4000\n"
     ]
    }
   ],
   "source": [
    "#https://www.tensorflow.org/tutorials/keras/save_and_load?fbclid=IwAR3JVn-_CLqgNuKO3G92cMYCNqVL81oxVs3bP6QhfgFLPiE4VbEMK2QQffc\n",
    "loss, acc, auc, precision, recall = model.evaluate(test_data, test_labels, verbose=2)"
   ]
  },
  {
   "cell_type": "code",
   "execution_count": 19,
   "id": "blank-jurisdiction",
   "metadata": {},
   "outputs": [
    {
     "name": "stdout",
     "output_type": "stream",
     "text": [
      "INFO:tensorflow:Assets written to: /home/jupyter/SmallMediumModels/VGG-SmallDataModel/assets\n"
     ]
    }
   ],
   "source": [
    "saved_model_path = \"/home/jupyter/SmallMediumModels/VGG-SmallDataModel\"\n",
    "tf.saved_model.save(model, saved_model_path)\n",
    "model.save('VGG-SmallDatasetModel.h5')"
   ]
  },
  {
   "cell_type": "code",
   "execution_count": null,
   "id": "demographic-cargo",
   "metadata": {},
   "outputs": [],
   "source": []
  }
 ],
 "metadata": {
  "environment": {
   "name": "tf2-gpu.2-4.mnightly-2021-02-12-debian-10-test",
   "type": "gcloud",
   "uri": "gcr.io/deeplearning-platform-release/tf2-gpu.2-4:mnightly-2021-02-12-debian-10-test"
  },
  "kernelspec": {
   "display_name": "Python 3",
   "language": "python",
   "name": "python3"
  },
  "language_info": {
   "codemirror_mode": {
    "name": "ipython",
    "version": 3
   },
   "file_extension": ".py",
   "mimetype": "text/x-python",
   "name": "python",
   "nbconvert_exporter": "python",
   "pygments_lexer": "ipython3",
   "version": "3.7.9"
  }
 },
 "nbformat": 4,
 "nbformat_minor": 5
}
